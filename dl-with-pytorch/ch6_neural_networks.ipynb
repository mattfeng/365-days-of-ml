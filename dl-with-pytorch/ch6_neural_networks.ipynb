{
 "cells": [
  {
   "cell_type": "markdown",
   "id": "16b56ec7",
   "metadata": {
    "deletable": false,
    "editable": false,
    "run_control": {
     "frozen": true
    }
   },
   "source": [
    "# Chapter 6. Using a neural network to fit the data"
   ]
  },
  {
   "cell_type": "markdown",
   "id": "974be201",
   "metadata": {
    "deletable": false,
    "editable": false,
    "run_control": {
     "frozen": true
    }
   },
   "source": [
    "## Imports"
   ]
  },
  {
   "cell_type": "code",
   "execution_count": 17,
   "id": "fd22cead",
   "metadata": {},
   "outputs": [],
   "source": [
    "import numpy as np\n",
    "import torch\n",
    "import torch.nn as nn\n",
    "import torch.optim as optim\n",
    "\n",
    "import matplotlib.pyplot as plt\n",
    "\n",
    "from collections import OrderedDict"
   ]
  },
  {
   "cell_type": "markdown",
   "id": "fe8750dd",
   "metadata": {
    "deletable": false,
    "editable": false,
    "run_control": {
     "frozen": true
    }
   },
   "source": [
    "## Data"
   ]
  },
  {
   "cell_type": "code",
   "execution_count": 2,
   "id": "18a827ea",
   "metadata": {},
   "outputs": [
    {
     "name": "stdout",
     "output_type": "stream",
     "text": [
      "torch.Size([11, 1]) torch.Size([11, 1])\n"
     ]
    }
   ],
   "source": [
    "t_c = [0.5,  14.0, 15.0, 28.0, 11.0,  8.0,  3.0, -4.0,  6.0, 13.0, 21.0]\n",
    "t_u = [35.7, 55.9, 58.2, 81.9, 56.3, 48.9, 33.9, 21.8, 48.4, 60.4, 68.4]\n",
    "t_c = torch.tensor(t_c).unsqueeze(1) # turn datapoints into many batches, each with 1 feature\n",
    "t_u = torch.tensor(t_u).unsqueeze(1)\n",
    "\n",
    "print(t_c.shape, t_u.shape)\n",
    "\n",
    "# split into train/validation\n",
    "n_samples = t_u.shape[0]\n",
    "n_val = int(0.2 * n_samples)\n",
    "\n",
    "shuffled_indices = torch.randperm(n_samples)\n",
    "\n",
    "train_indices = shuffled_indices[:-n_val]\n",
    "val_indices = shuffled_indices[-n_val:]\n",
    "\n",
    "t_u_train = t_u[train_indices]\n",
    "t_c_train = t_c[train_indices]\n",
    "\n",
    "t_u_val = t_u[val_indices]\n",
    "t_c_val = t_c[val_indices]\n",
    "\n",
    "# normalize data\n",
    "t_un_train = 0.1 * t_u_train\n",
    "t_un_val = 0.1 * t_u_val"
   ]
  },
  {
   "cell_type": "code",
   "execution_count": 3,
   "id": "497dd844",
   "metadata": {},
   "outputs": [
    {
     "data": {
      "text/plain": [
       "tensor([[1.0188],\n",
       "        [1.2254]], grad_fn=<AddmmBackward0>)"
      ]
     },
     "execution_count": 3,
     "metadata": {},
     "output_type": "execute_result"
    }
   ],
   "source": [
    "linear_model = nn.Linear(1, 1) # input, output, bias (default True)\n",
    "linear_model(t_un_val)"
   ]
  },
  {
   "cell_type": "code",
   "execution_count": 4,
   "id": "970edac2",
   "metadata": {},
   "outputs": [
    {
     "name": "stdout",
     "output_type": "stream",
     "text": [
      "Parameter containing:\n",
      "tensor([[0.1033]], requires_grad=True)\n"
     ]
    }
   ],
   "source": [
    "print(linear_model.weight)"
   ]
  },
  {
   "cell_type": "code",
   "execution_count": 5,
   "id": "9532343d",
   "metadata": {},
   "outputs": [
    {
     "name": "stdout",
     "output_type": "stream",
     "text": [
      "Parameter containing:\n",
      "tensor([0.5187], requires_grad=True)\n"
     ]
    }
   ],
   "source": [
    "print(linear_model.bias)"
   ]
  },
  {
   "cell_type": "markdown",
   "id": "05751ef2",
   "metadata": {
    "deletable": false,
    "editable": false,
    "run_control": {
     "frozen": true
    }
   },
   "source": [
    "## Batching inputs"
   ]
  },
  {
   "cell_type": "code",
   "execution_count": 6,
   "id": "edab001d",
   "metadata": {},
   "outputs": [
    {
     "name": "stdout",
     "output_type": "stream",
     "text": [
      "tensor([[0.6221],\n",
      "        [0.6221],\n",
      "        [0.6221],\n",
      "        [0.6221],\n",
      "        [0.6221],\n",
      "        [0.6221],\n",
      "        [0.6221],\n",
      "        [0.6221],\n",
      "        [0.6221],\n",
      "        [0.6221]], grad_fn=<AddmmBackward0>)\n"
     ]
    }
   ],
   "source": [
    "x = torch.ones(10, 1)\n",
    "print(linear_model(x))"
   ]
  },
  {
   "cell_type": "code",
   "execution_count": 7,
   "id": "187af69e",
   "metadata": {},
   "outputs": [
    {
     "name": "stdout",
     "output_type": "stream",
     "text": [
      "[Parameter containing:\n",
      "tensor([[0.2808]], requires_grad=True), Parameter containing:\n",
      "tensor([0.4282], requires_grad=True)]\n"
     ]
    }
   ],
   "source": [
    "linear_model = nn.Linear(1, 1)\n",
    "optimizer = optim.SGD(\n",
    "    linear_model.parameters(),\n",
    "    lr=1e-2\n",
    ")\n",
    "\n",
    "print(list(linear_model.parameters()))"
   ]
  },
  {
   "cell_type": "code",
   "execution_count": 8,
   "id": "d69688c2",
   "metadata": {},
   "outputs": [],
   "source": [
    "def training_loop(n_epochs,\n",
    "                  optimizer,\n",
    "                  model,\n",
    "                  loss_fn,\n",
    "                  t_u_train,\n",
    "                  t_u_val,\n",
    "                  t_c_train,\n",
    "                  t_c_val):\n",
    "    for epoch in range(1, n_epochs + 1):\n",
    "        t_p_train = model(t_u_train) # pass in the model, instead of parameters\n",
    "        loss_train = loss_fn(t_p_train, t_c_train)\n",
    "        \n",
    "        with torch.no_grad():\n",
    "            t_p_val = model(t_u_val)\n",
    "            loss_val = loss_fn(t_p_val, t_c_val)\n",
    "        \n",
    "        optimizer.zero_grad()\n",
    "        loss_train.backward()\n",
    "        optimizer.step()\n",
    "        \n",
    "        if epoch == 1 or epoch % 1000 == 0:\n",
    "            print(f\"Epoch {epoch}, Training loss {loss_train.item():.4f},\"\n",
    "                  f\" Validation loss {loss_val.item():.4f}\")"
   ]
  },
  {
   "cell_type": "code",
   "execution_count": 9,
   "id": "0db82501",
   "metadata": {},
   "outputs": [
    {
     "name": "stdout",
     "output_type": "stream",
     "text": [
      "Epoch 1, Training loss 135.1693, Validation loss 182.8026\n",
      "Epoch 1000, Training loss 3.0605, Validation loss 7.5599\n",
      "Epoch 2000, Training loss 2.4504, Validation loss 5.7236\n",
      "Epoch 3000, Training loss 2.4376, Validation loss 5.4845\n",
      "\n",
      "Parameter containing:\n",
      "tensor([[5.2243]], requires_grad=True)\n",
      "Parameter containing:\n",
      "tensor([-16.4570], requires_grad=True)\n"
     ]
    }
   ],
   "source": [
    "# use torch.nn for the loss function\n",
    "training_loop(\n",
    "    n_epochs=3000,\n",
    "    optimizer=optimizer,\n",
    "    model=linear_model,\n",
    "    loss_fn=nn.MSELoss(),\n",
    "    t_u_train=t_un_train,\n",
    "    t_u_val=t_un_val,\n",
    "    t_c_train=t_c_train,\n",
    "    t_c_val=t_c_val\n",
    ")\n",
    "\n",
    "print()\n",
    "print(linear_model.weight)\n",
    "print(linear_model.bias)"
   ]
  },
  {
   "cell_type": "markdown",
   "id": "3f839681",
   "metadata": {
    "deletable": false,
    "editable": false,
    "run_control": {
     "frozen": true
    }
   },
   "source": [
    "## Neural networks"
   ]
  },
  {
   "cell_type": "code",
   "execution_count": 10,
   "id": "d73dea8d",
   "metadata": {},
   "outputs": [
    {
     "name": "stdout",
     "output_type": "stream",
     "text": [
      "Sequential(\n",
      "  (0): Linear(in_features=1, out_features=13, bias=True)\n",
      "  (1): Tanh()\n",
      "  (2): Linear(in_features=13, out_features=1, bias=True)\n",
      ")\n"
     ]
    }
   ],
   "source": [
    "seq_model = nn.Sequential(\n",
    "                nn.Linear(1, 13),\n",
    "                nn.Tanh(),\n",
    "                nn.Linear(13, 1)\n",
    "            )\n",
    "print(seq_model)"
   ]
  },
  {
   "cell_type": "code",
   "execution_count": 12,
   "id": "76e12b0d",
   "metadata": {},
   "outputs": [
    {
     "name": "stdout",
     "output_type": "stream",
     "text": [
      "0.weight torch.Size([13, 1])\n",
      "0.bias torch.Size([13])\n",
      "2.weight torch.Size([1, 13])\n",
      "2.bias torch.Size([1])\n"
     ]
    }
   ],
   "source": [
    "for name, param in seq_model.named_parameters():\n",
    "    print(name, param.shape)"
   ]
  },
  {
   "cell_type": "code",
   "execution_count": 14,
   "id": "bdb9e283",
   "metadata": {},
   "outputs": [
    {
     "name": "stdout",
     "output_type": "stream",
     "text": [
      "Sequential(\n",
      "  (hidden_linear): Linear(in_features=1, out_features=8, bias=True)\n",
      "  (hidden_activation): Tanh()\n",
      "  (output_linear): Linear(in_features=8, out_features=1, bias=True)\n",
      ")\n"
     ]
    }
   ],
   "source": [
    "seq_model = nn.Sequential(OrderedDict([\n",
    "    (\"hidden_linear\", nn.Linear(1, 8)),\n",
    "    (\"hidden_activation\", nn.Tanh()),\n",
    "    (\"output_linear\", nn.Linear(8, 1))\n",
    "]))\n",
    "\n",
    "print(seq_model)"
   ]
  },
  {
   "cell_type": "code",
   "execution_count": 15,
   "id": "55a89f41",
   "metadata": {},
   "outputs": [
    {
     "name": "stdout",
     "output_type": "stream",
     "text": [
      "hidden_linear.weight torch.Size([8, 1])\n",
      "hidden_linear.bias torch.Size([8])\n",
      "output_linear.weight torch.Size([1, 8])\n",
      "output_linear.bias torch.Size([1])\n"
     ]
    }
   ],
   "source": [
    "for name, param in seq_model.named_parameters():\n",
    "    print(name, param.shape)"
   ]
  },
  {
   "cell_type": "code",
   "execution_count": 16,
   "id": "1598645c",
   "metadata": {},
   "outputs": [
    {
     "name": "stdout",
     "output_type": "stream",
     "text": [
      "Epoch 1, Training loss 164.0676, Validation loss 222.0617\n",
      "Epoch 1000, Training loss 5.6413, Validation loss 5.8622\n",
      "Epoch 2000, Training loss 3.7771, Validation loss 3.6988\n",
      "Epoch 3000, Training loss 2.1127, Validation loss 1.8008\n",
      "Epoch 4000, Training loss 1.9443, Validation loss 1.9044\n",
      "Epoch 5000, Training loss 1.8977, Validation loss 1.9743\n",
      "output tensor([[ 7.8941],\n",
      "        [20.3991]], grad_fn=<AddmmBackward0>)\n",
      "answer tensor([[ 6.],\n",
      "        [21.]])\n",
      "hidden tensor([[ 0.0019],\n",
      "        [-0.0049],\n",
      "        [ 0.0005],\n",
      "        [ 0.0007],\n",
      "        [-0.0019],\n",
      "        [ 0.0011],\n",
      "        [ 0.0064],\n",
      "        [-0.0010]])\n"
     ]
    }
   ],
   "source": [
    "optimizer = optim.SGD(seq_model.parameters(), lr=1e-3)\n",
    "\n",
    "training_loop(\n",
    "    n_epochs=5000,\n",
    "    optimizer=optimizer,\n",
    "    model=seq_model,\n",
    "    loss_fn=nn.MSELoss(),\n",
    "    t_u_train=t_un_train,\n",
    "    t_u_val=t_un_val,\n",
    "    t_c_train=t_c_train,\n",
    "    t_c_val=t_c_val\n",
    ")\n",
    "\n",
    "print(\"output\", seq_model(t_un_val))\n",
    "print(\"answer\", t_c_val)\n",
    "print(\"hidden\", seq_model.hidden_linear.weight.grad)"
   ]
  },
  {
   "cell_type": "markdown",
   "id": "1a148743",
   "metadata": {
    "deletable": false,
    "editable": false,
    "run_control": {
     "frozen": true
    }
   },
   "source": [
    "### Comparing to linear model"
   ]
  },
  {
   "cell_type": "code",
   "execution_count": null,
   "id": "4a1a3a3a",
   "metadata": {},
   "outputs": [],
   "source": [
    "t_range = torch.arange(20., 90.).unsqueeze(1) # batch\n",
    "\n",
    "fig = plt.figure(dpi=600)\n",
    "plt.xlabel(\"Fahrenheit\")\n",
    "plt.ylabel(\"Celsius\")\n",
    "plt.plot(t_u.numpy(), t_c.numpy(), 'o')\n",
    "plt.plot(t_range.numpy(), seq_model(0.1 * t_range).detach().numpy(), 'e-')"
   ]
  }
 ],
 "metadata": {
  "kernelspec": {
   "display_name": "Python 3 (ipykernel)",
   "language": "python",
   "name": "python3"
  },
  "language_info": {
   "codemirror_mode": {
    "name": "ipython",
    "version": 3
   },
   "file_extension": ".py",
   "mimetype": "text/x-python",
   "name": "python",
   "nbconvert_exporter": "python",
   "pygments_lexer": "ipython3",
   "version": "3.9.15"
  }
 },
 "nbformat": 4,
 "nbformat_minor": 5
}
