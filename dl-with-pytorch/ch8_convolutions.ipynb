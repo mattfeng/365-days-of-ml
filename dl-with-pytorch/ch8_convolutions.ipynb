{
 "cells": [
  {
   "cell_type": "markdown",
   "id": "7386eb7c",
   "metadata": {
    "deletable": false,
    "editable": false,
    "run_control": {
     "frozen": true
    }
   },
   "source": [
    "# Chapter 8. Using convolutions to generalize"
   ]
  },
  {
   "cell_type": "markdown",
   "id": "04a678ea",
   "metadata": {
    "deletable": false,
    "editable": false,
    "run_control": {
     "frozen": true
    }
   },
   "source": [
    "## Imports"
   ]
  },
  {
   "cell_type": "code",
   "execution_count": 17,
   "id": "3b2993d8",
   "metadata": {},
   "outputs": [],
   "source": [
    "import torch\n",
    "import torch.nn as nn\n",
    "import torch.optim as optim\n",
    "import torch.nn.functional as F\n",
    "\n",
    "import numpy as np\n",
    "import matplotlib.pyplot as plt\n",
    "\n",
    "import datetime\n",
    "\n",
    "from torchvision import datasets\n",
    "from torchvision import transforms"
   ]
  },
  {
   "cell_type": "markdown",
   "id": "940beb06",
   "metadata": {
    "deletable": false,
    "editable": false,
    "run_control": {
     "frozen": true
    }
   },
   "source": [
    "## Data"
   ]
  },
  {
   "cell_type": "code",
   "execution_count": 35,
   "id": "16a7cf97",
   "metadata": {},
   "outputs": [],
   "source": [
    "model_path = \"/Users/mattfeng/365-days-of-ml/saved_models\"\n",
    "data_path = \"/Volumes/OXYTOCIN/datasets/cifar10\"\n",
    "mean = (0.4913996458053589, 0.48215845227241516, 0.44653093814849854)\n",
    "std = (0.24703224003314972, 0.24348513782024384, 0.26158785820007324)\n",
    "\n",
    "# building a dataset using a subset of cifar10\n",
    "transformed_cifar10 = datasets.CIFAR10(\n",
    "    data_path,\n",
    "    train=True,\n",
    "    download=False,\n",
    "    transform=transforms.Compose([\n",
    "        transforms.ToTensor(),\n",
    "        transforms.Normalize(mean, std)\n",
    "    ])\n",
    ")\n",
    "\n",
    "transformed_cifar10_val = datasets.CIFAR10(\n",
    "    data_path,\n",
    "    train=False,\n",
    "    download=False,\n",
    "    transform=transforms.Compose([\n",
    "        transforms.ToTensor(),\n",
    "        transforms.Normalize(mean, std)\n",
    "    ])\n",
    ")\n",
    "\n",
    "label_map = {0: 0, 2: 1} # cifar10 -> cifar2\n",
    "class_names = [\"airplane\", \"bird\"]\n",
    "\n",
    "cifar2 = [(img, label_map[label])\n",
    "          for img, label in transformed_cifar10\n",
    "          if label in {0, 2}]\n",
    "cifar2_val = [(img, label_map[label])\n",
    "              for img, label in transformed_cifar10_val\n",
    "              if label in {0, 2}]"
   ]
  },
  {
   "cell_type": "markdown",
   "id": "071e5cbd",
   "metadata": {
    "deletable": false,
    "editable": false,
    "run_control": {
     "frozen": true
    }
   },
   "source": [
    "## Convolutions"
   ]
  },
  {
   "cell_type": "code",
   "execution_count": 3,
   "id": "517a7bc0",
   "metadata": {},
   "outputs": [
    {
     "name": "stdout",
     "output_type": "stream",
     "text": [
      "Conv2d(3, 16, kernel_size=(3, 3), stride=(1, 1))\n"
     ]
    }
   ],
   "source": [
    "conv = nn.Conv2d(3, 16, kernel_size=3) # 3 input channels, 16 output channels, 3x3 kernel\n",
    "print(conv)"
   ]
  },
  {
   "cell_type": "code",
   "execution_count": 4,
   "id": "fb7cfee3",
   "metadata": {},
   "outputs": [
    {
     "name": "stdout",
     "output_type": "stream",
     "text": [
      "torch.Size([16, 3, 3, 3]) torch.Size([16])\n"
     ]
    }
   ],
   "source": [
    "print(conv.weight.shape, conv.bias.shape)\n",
    "# 16 filters, each with input 3x3x3 (channel, kernel width, kernel height)\n",
    "# 1 bias per filter"
   ]
  },
  {
   "cell_type": "code",
   "execution_count": 5,
   "id": "a3c372c8",
   "metadata": {},
   "outputs": [
    {
     "name": "stdout",
     "output_type": "stream",
     "text": [
      "torch.Size([1, 3, 32, 32]) torch.Size([1, 16, 30, 30])\n"
     ]
    },
    {
     "name": "stderr",
     "output_type": "stream",
     "text": [
      "[W NNPACK.cpp:53] Could not initialize NNPACK! Reason: Unsupported hardware.\n"
     ]
    }
   ],
   "source": [
    "img, _ = cifar2[0]\n",
    "output = conv(img.unsqueeze(0)) # need a dimension for batches\n",
    "print(img.unsqueeze(0).shape, output.shape)"
   ]
  },
  {
   "cell_type": "code",
   "execution_count": 6,
   "id": "e1dc0bc8",
   "metadata": {},
   "outputs": [
    {
     "data": {
      "image/png": "[encoded data removed]",
      "text/plain": [
       "<Figure size 640x480 with 1 Axes>"
      ]
     },
     "metadata": {},
     "output_type": "display_data"
    }
   ],
   "source": [
    "plt.imshow(output[0, 0].detach(), cmap=\"gray\")\n",
    "plt.show()"
   ]
  },
  {
   "cell_type": "markdown",
   "id": "3bd427e7",
   "metadata": {
    "deletable": false,
    "editable": false,
    "run_control": {
     "frozen": true
    }
   },
   "source": [
    "### Padding"
   ]
  },
  {
   "cell_type": "code",
   "execution_count": 7,
   "id": "0089b706",
   "metadata": {},
   "outputs": [
    {
     "name": "stdout",
     "output_type": "stream",
     "text": [
      "Conv2d(3, 16, kernel_size=(3, 3), stride=(1, 1), padding=(1, 1))\n",
      "torch.Size([1, 3, 32, 32]) torch.Size([1, 16, 32, 32])\n"
     ]
    }
   ],
   "source": [
    "conv = nn.Conv2d(3, 16, kernel_size=3, padding=1) # 3 input channels, 16 output channels, 3x3 kernel\n",
    "print(conv)\n",
    "\n",
    "img, _ = cifar2[0]\n",
    "output = conv(img.unsqueeze(0)) # need a dimension for batches\n",
    "print(img.unsqueeze(0).shape, output.shape)\n"
   ]
  },
  {
   "cell_type": "markdown",
   "id": "79e8c3e1",
   "metadata": {
    "deletable": false,
    "editable": false,
    "run_control": {
     "frozen": true
    }
   },
   "source": [
    "### Manual filters"
   ]
  },
  {
   "cell_type": "markdown",
   "id": "6a9d6e61",
   "metadata": {
    "deletable": false,
    "editable": false,
    "run_control": {
     "frozen": true
    }
   },
   "source": [
    "#### Blur"
   ]
  },
  {
   "cell_type": "code",
   "execution_count": 8,
   "id": "68765a80",
   "metadata": {},
   "outputs": [
    {
     "data": {
      "image/png": "[encoded data removed]",
      "text/plain": [
       "<Figure size 640x480 with 1 Axes>"
      ]
     },
     "metadata": {},
     "output_type": "display_data"
    }
   ],
   "source": [
    "conv = nn.Conv2d(3, 16, kernel_size=3, padding=1) # 3 input channels, 16 output channels, 3x3 kernel\n",
    "\n",
    "with torch.no_grad():\n",
    "    conv.bias.zero_()\n",
    "    conv.weight.fill_(1.0 / 9.0)\n",
    "\n",
    "img, _ = cifar2[0]\n",
    "output = conv(img.unsqueeze(0))\n",
    "plt.imshow(output[0, 0].detach(), cmap=\"gray\")\n",
    "plt.show()"
   ]
  },
  {
   "cell_type": "markdown",
   "id": "d4ba87b6",
   "metadata": {
    "deletable": false,
    "editable": false,
    "run_control": {
     "frozen": true
    }
   },
   "source": [
    "#### Vertical edge detector"
   ]
  },
  {
   "cell_type": "code",
   "execution_count": 9,
   "id": "68bd961f",
   "metadata": {},
   "outputs": [
    {
     "data": {
      "image/png": "[encoded data removed]",
      "text/plain": [
       "<Figure size 640x480 with 1 Axes>"
      ]
     },
     "metadata": {},
     "output_type": "display_data"
    }
   ],
   "source": [
    "conv = nn.Conv2d(3, 16, kernel_size=3, padding=1) # 3 input channels, 16 output channels, 3x3 kernel\n",
    "\n",
    "with torch.no_grad():\n",
    "    conv.bias.zero_()\n",
    "    conv.weight[:] = torch.tensor([[-1.0, 0, 1.0],\n",
    "                                   [-1.0, 0, 1.0],\n",
    "                                   [-1.0, 0, 1.0]])\n",
    "\n",
    "img, _ = cifar2[0]\n",
    "output = conv(img.unsqueeze(0))\n",
    "plt.imshow(output[0, 0].detach(), cmap=\"gray\")\n",
    "plt.show()"
   ]
  },
  {
   "cell_type": "markdown",
   "id": "37e0f470",
   "metadata": {
    "deletable": false,
    "editable": false,
    "run_control": {
     "frozen": true
    }
   },
   "source": [
    "### `MaxPool` Max pooling"
   ]
  },
  {
   "cell_type": "code",
   "execution_count": 10,
   "id": "76029e53",
   "metadata": {},
   "outputs": [
    {
     "name": "stdout",
     "output_type": "stream",
     "text": [
      "torch.Size([1, 3, 32, 32]) torch.Size([1, 3, 16, 16])\n"
     ]
    },
    {
     "data": {
      "image/png": "[encoded data removed]",
      "text/plain": [
       "<Figure size 640x480 with 1 Axes>"
      ]
     },
     "metadata": {},
     "output_type": "display_data"
    }
   ],
   "source": [
    "pool = nn.MaxPool2d(2)\n",
    "output = pool(img.unsqueeze(0))\n",
    "\n",
    "print(img.unsqueeze(0).shape, output.shape)\n",
    "plt.imshow(output[0, 0].detach(), cmap=\"gray\")\n",
    "plt.show()"
   ]
  },
  {
   "cell_type": "markdown",
   "id": "040d61a5",
   "metadata": {
    "deletable": false,
    "editable": false,
    "run_control": {
     "frozen": true
    }
   },
   "source": [
    "### Combining `Conv2d` and  `MaxPool2d`"
   ]
  },
  {
   "cell_type": "code",
   "execution_count": 11,
   "id": "200f0e98",
   "metadata": {},
   "outputs": [],
   "source": [
    "model = nn.Sequential(\n",
    "    nn.Conv2d(3, 16, kernel_size=3, padding=1), # out (16, 32, 32)\n",
    "    nn.Tanh(),\n",
    "    nn.MaxPool2d(2),                            # out (16, 16, 16)\n",
    "    nn.Conv2d(16, 8, kernel_size=3, padding=1), # out (8, 16, 16)\n",
    "    nn.Tanh(),\n",
    "    nn.MaxPool2d(2),                            # out (8, 8, 8)\n",
    "    # need a flatten operation here\n",
    "    nn.Linear(8 * 8 * 8, 32),\n",
    "    nn.Tanh(),\n",
    "    nn.Linear(32, 2)\n",
    ")"
   ]
  },
  {
   "cell_type": "code",
   "execution_count": 12,
   "id": "4f07f4bc",
   "metadata": {},
   "outputs": [
    {
     "name": "stdout",
     "output_type": "stream",
     "text": [
      "18090 [432, 16, 1152, 8, 16384, 32, 64, 2]\n"
     ]
    }
   ],
   "source": [
    "numel_list = [p.numel() for p in model.parameters()]\n",
    "print(sum(numel_list), numel_list)"
   ]
  },
  {
   "cell_type": "markdown",
   "id": "0de5f058",
   "metadata": {
    "deletable": false,
    "editable": false,
    "run_control": {
     "frozen": true
    }
   },
   "source": [
    "## Subclassing `nn.Module`"
   ]
  },
  {
   "cell_type": "code",
   "execution_count": 13,
   "id": "bda74a7d",
   "metadata": {},
   "outputs": [],
   "source": [
    "class Net(nn.Module):\n",
    "    # all parameters must be defined in __init__\n",
    "    # for PyTorch to track them (when we call Module.parameters())\n",
    "    def __init__(self):\n",
    "        super().__init__()\n",
    "        \n",
    "        self.conv1 = nn.Conv2d(3, 16, kernel_size=3, padding=1) # out (16, 32, 32)\n",
    "        self.act1 = nn.Tanh()\n",
    "        self.pool1 = nn.MaxPool2d(2)                            # out (16, 16, 16)\n",
    "        self.conv2 = nn.Conv2d(16, 8, kernel_size=3, padding=1) # out (8, 16, 16)\n",
    "        self.act2 = nn.Tanh()\n",
    "        self.pool2 = nn.MaxPool2d(2)                            # out (8, 8, 8)\n",
    "        \n",
    "        self.fc1 = nn.Linear(8 * 8 * 8, 32)\n",
    "        self.act3 = nn.Tanh()\n",
    "        self.fc2 = nn.Linear(32, 2)\n",
    "    \n",
    "    def forward(self, x):\n",
    "        out = self.pool1(self.act1(self.conv1(x)))\n",
    "        out = self.pool2(self.act2(self.conv2(out)))\n",
    "        out = out.view(-1, 8 * 8 * 8) # reshape\n",
    "        out = self.act3(self.fc1(out))\n",
    "        out = self.fc2(out)\n",
    "        return out"
   ]
  },
  {
   "cell_type": "code",
   "execution_count": 14,
   "id": "b7097bfd",
   "metadata": {},
   "outputs": [
    {
     "name": "stdout",
     "output_type": "stream",
     "text": [
      "18090 [432, 16, 1152, 8, 16384, 32, 64, 2]\n"
     ]
    }
   ],
   "source": [
    "model = Net()\n",
    "\n",
    "numel_list = [p.numel() for p in model.parameters()]\n",
    "print(sum(numel_list), numel_list)"
   ]
  },
  {
   "cell_type": "markdown",
   "id": "8a04a3d9",
   "metadata": {
    "deletable": false,
    "editable": false,
    "run_control": {
     "frozen": true
    }
   },
   "source": [
    "## Functional API"
   ]
  },
  {
   "cell_type": "code",
   "execution_count": 15,
   "id": "57ee60fe",
   "metadata": {},
   "outputs": [],
   "source": [
    "class Net(nn.Module):\n",
    "    def __init__(self):\n",
    "        super().__init__()\n",
    "        self.conv1 = nn.Conv2d(3, 16, kernel_size=3, padding=1)\n",
    "        self.conv2 = nn.Conv2d(16, 8, kernel_size=3, padding=1)\n",
    "        self.fc1 = nn.Linear(8 * 8 * 8, 32)\n",
    "        self.fc2 = nn.Linear(32, 2)\n",
    "        \n",
    "    def forward(self, x):\n",
    "        out = F.max_pool2d(torch.tanh(self.conv1(x)), 2)\n",
    "        out = F.max_pool2d(torch.tanh(self.conv2(out)), 2)\n",
    "        out = out.view(-1, 8 * 8 * 8)\n",
    "        out = torch.tanh(self.fc1(out))\n",
    "        out = self.fc2(out)\n",
    "        return out"
   ]
  },
  {
   "cell_type": "code",
   "execution_count": 16,
   "id": "d7de3fae",
   "metadata": {},
   "outputs": [
    {
     "data": {
      "text/plain": [
       "tensor([[0.1547, 0.2188]], grad_fn=<AddmmBackward0>)"
      ]
     },
     "execution_count": 16,
     "metadata": {},
     "output_type": "execute_result"
    }
   ],
   "source": [
    "model = Net()\n",
    "\n",
    "img, _ = cifar2[0]\n",
    "model(img.unsqueeze(0))"
   ]
  },
  {
   "cell_type": "code",
   "execution_count": 28,
   "id": "2adb9b88",
   "metadata": {},
   "outputs": [],
   "source": [
    "def training_loop(n_epochs, optimizer, model, loss_fn, train_loader):\n",
    "    for epoch in range(1, n_epochs + 1):\n",
    "        loss_train = 0.0\n",
    "        for imgs, labels in train_loader:\n",
    "            outputs = model(imgs)\n",
    "            \n",
    "            loss = loss_fn(outputs, labels)\n",
    "            \n",
    "            optimizer.zero_grad()\n",
    "            loss.backward()\n",
    "            optimizer.step()\n",
    "            \n",
    "            loss_train += loss.item()\n",
    "            \n",
    "        if epoch == 1 or epoch % 10 == 0:\n",
    "            print(\"{} Epoch {}, Training loss {}\".format(\n",
    "                datetime.datetime.now(), epoch,\n",
    "                loss_train / len(train_loader) # average loss per batch\n",
    "                ))"
   ]
  },
  {
   "cell_type": "code",
   "execution_count": 29,
   "id": "0dd573e6",
   "metadata": {},
   "outputs": [],
   "source": [
    "train_loader = torch.utils.data.DataLoader(cifar2, batch_size=64, shuffle=True)"
   ]
  },
  {
   "cell_type": "code",
   "execution_count": 30,
   "id": "5a6351c5",
   "metadata": {},
   "outputs": [
    {
     "name": "stdout",
     "output_type": "stream",
     "text": [
      "2023-01-11 21:39:02.464929 Epoch 1, Training loss 0.5680743810857177\n",
      "2023-01-11 21:39:23.360175 Epoch 10, Training loss 0.34150097362554754\n",
      "2023-01-11 21:39:46.559400 Epoch 20, Training loss 0.2999537779836898\n",
      "2023-01-11 21:40:09.661355 Epoch 30, Training loss 0.2746243792449593\n",
      "2023-01-11 21:40:32.877342 Epoch 40, Training loss 0.2530979527409669\n",
      "2023-01-11 21:40:56.190216 Epoch 50, Training loss 0.23633696798496184\n",
      "2023-01-11 21:41:19.236614 Epoch 60, Training loss 0.22289931275852168\n",
      "2023-01-11 21:41:42.429869 Epoch 70, Training loss 0.2079803646559928\n",
      "2023-01-11 21:42:06.571989 Epoch 80, Training loss 0.19585816277440188\n",
      "2023-01-11 21:42:31.083816 Epoch 90, Training loss 0.18386738614481726\n",
      "2023-01-11 21:42:55.853262 Epoch 100, Training loss 0.16957332329100863\n"
     ]
    }
   ],
   "source": [
    "model = Net()\n",
    "optimizer = optim.SGD(model.parameters(), lr=1e-2)\n",
    "loss_fn = nn.CrossEntropyLoss()\n",
    "\n",
    "training_loop(\n",
    "    n_epochs=100,\n",
    "    optimizer=optimizer,\n",
    "    model=model,\n",
    "    loss_fn=loss_fn,\n",
    "    train_loader=train_loader\n",
    ")"
   ]
  },
  {
   "cell_type": "markdown",
   "id": "6085b4d9",
   "metadata": {
    "deletable": false,
    "editable": false,
    "run_control": {
     "frozen": true
    }
   },
   "source": [
    "### Measuring accuracy"
   ]
  },
  {
   "cell_type": "code",
   "execution_count": 31,
   "id": "94925acb",
   "metadata": {},
   "outputs": [
    {
     "name": "stdout",
     "output_type": "stream",
     "text": [
      "Accuracy train: 0.92\n",
      "Accuracy val: 0.88\n"
     ]
    }
   ],
   "source": [
    "train_loader = torch.utils.data.DataLoader(cifar2, batch_size=64, shuffle=False)\n",
    "val_loader = torch.utils.data.DataLoader(cifar2_val, batch_size=64, shuffle=False)\n",
    "\n",
    "def validate(model, train_loader, val_loader):\n",
    "    for name, loader in [(\"train\", train_loader), (\"val\", val_loader)]:\n",
    "        correct = 0\n",
    "        total = 0\n",
    "        \n",
    "        with torch.no_grad():\n",
    "            for imgs, labels in loader:\n",
    "                outputs = model(imgs)\n",
    "                _, predicted = torch.max(outputs, dim=1) # get index of highest prediction\n",
    "                total += labels.shape[0] # batch is zeroth dimension\n",
    "                correct += int((predicted == labels).sum())\n",
    "                \n",
    "        print(\"Accuracy {}: {:.2f}\".format(name, correct / total))\n",
    "\n",
    "validate(model, train_loader, val_loader)"
   ]
  },
  {
   "cell_type": "markdown",
   "id": "8ca3b899",
   "metadata": {
    "deletable": false,
    "editable": false,
    "run_control": {
     "frozen": true
    }
   },
   "source": [
    "### Saving and loading models"
   ]
  },
  {
   "cell_type": "code",
   "execution_count": 33,
   "id": "d0410abc",
   "metadata": {},
   "outputs": [],
   "source": [
    "torch.save(model.state_dict(), f\"{model_path}/birds_vs_airplanes.pt\")"
   ]
  },
  {
   "cell_type": "code",
   "execution_count": 36,
   "id": "06049ff2",
   "metadata": {},
   "outputs": [
    {
     "data": {
      "text/plain": [
       "<All keys matched successfully>"
      ]
     },
     "execution_count": 36,
     "metadata": {},
     "output_type": "execute_result"
    }
   ],
   "source": [
    "loaded_model = Net()\n",
    "loaded_model.load_state_dict(torch.load(f\"{model_path}/birds_vs_airplanes.pt\"))"
   ]
  },
  {
   "cell_type": "code",
   "execution_count": 39,
   "id": "ef6148d2",
   "metadata": {},
   "outputs": [
    {
     "data": {
      "text/plain": [
       "False"
      ]
     },
     "execution_count": 39,
     "metadata": {},
     "output_type": "execute_result"
    }
   ],
   "source": [
    "torch.cuda.is_available()"
   ]
  },
  {
   "cell_type": "code",
   "execution_count": null,
   "id": "4785f92f",
   "metadata": {},
   "outputs": [],
   "source": []
  }
 ],
 "metadata": {
  "kernelspec": {
   "display_name": "Python 3 (ipykernel)",
   "language": "python",
   "name": "python3"
  },
  "language_info": {
   "codemirror_mode": {
    "name": "ipython",
    "version": 3
   },
   "file_extension": ".py",
   "mimetype": "text/x-python",
   "name": "python",
   "nbconvert_exporter": "python",
   "pygments_lexer": "ipython3",
   "version": "3.9.15"
  }
 },
 "nbformat": 4,
 "nbformat_minor": 5
}
