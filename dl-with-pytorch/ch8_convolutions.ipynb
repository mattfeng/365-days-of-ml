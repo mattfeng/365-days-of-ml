{
 "cells": [
  {
   "cell_type": "markdown",
   "id": "7386eb7c",
   "metadata": {
    "deletable": false,
    "editable": false,
    "run_control": {
     "frozen": true
    }
   },
   "source": [
    "# Chapter 8. Using convolutions to generalize"
   ]
  },
  {
   "cell_type": "markdown",
   "id": "04a678ea",
   "metadata": {
    "deletable": false,
    "editable": false,
    "run_control": {
     "frozen": true
    }
   },
   "source": [
    "## Imports"
   ]
  },
  {
   "cell_type": "code",
   "execution_count": 1,
   "id": "3b2993d8",
   "metadata": {},
   "outputs": [],
   "source": [
    "import torch\n",
    "import torch.nn as nn\n",
    "import torch.optim as optim\n",
    "import torch.nn.functional as F\n",
    "\n",
    "import numpy as np\n",
    "import matplotlib.pyplot as plt\n",
    "\n",
    "import time\n",
    "import datetime\n",
    "\n",
    "from torchvision import datasets\n",
    "from torchvision import transforms"
   ]
  },
  {
   "cell_type": "markdown",
   "id": "940beb06",
   "metadata": {
    "deletable": false,
    "editable": false,
    "run_control": {
     "frozen": true
    }
   },
   "source": [
    "## Data"
   ]
  },
  {
   "cell_type": "code",
   "execution_count": 2,
   "id": "16a7cf97",
   "metadata": {},
   "outputs": [],
   "source": [
    "model_path = \"/Users/mattfeng/365-days-of-ml/saved_models\"\n",
    "data_path = \"/Volumes/OXYTOCIN/datasets/cifar10\"\n",
    "mean = (0.4913996458053589, 0.48215845227241516, 0.44653093814849854)\n",
    "std = (0.24703224003314972, 0.24348513782024384, 0.26158785820007324)\n",
    "\n",
    "# building a dataset using a subset of cifar10\n",
    "transformed_cifar10 = datasets.CIFAR10(\n",
    "    data_path,\n",
    "    train=True,\n",
    "    download=False,\n",
    "    transform=transforms.Compose([\n",
    "        transforms.ToTensor(),\n",
    "        transforms.Normalize(mean, std)\n",
    "    ])\n",
    ")\n",
    "\n",
    "transformed_cifar10_val = datasets.CIFAR10(\n",
    "    data_path,\n",
    "    train=False,\n",
    "    download=False,\n",
    "    transform=transforms.Compose([\n",
    "        transforms.ToTensor(),\n",
    "        transforms.Normalize(mean, std)\n",
    "    ])\n",
    ")\n",
    "\n",
    "label_map = {0: 0, 2: 1} # cifar10 -> cifar2\n",
    "class_names = [\"airplane\", \"bird\"]\n",
    "\n",
    "cifar2 = [(img, label_map[label])\n",
    "          for img, label in transformed_cifar10\n",
    "          if label in {0, 2}]\n",
    "cifar2_val = [(img, label_map[label])\n",
    "              for img, label in transformed_cifar10_val\n",
    "              if label in {0, 2}]"
   ]
  },
  {
   "cell_type": "markdown",
   "id": "071e5cbd",
   "metadata": {
    "deletable": false,
    "editable": false,
    "run_control": {
     "frozen": true
    }
   },
   "source": [
    "## Convolutions"
   ]
  },
  {
   "cell_type": "code",
   "execution_count": 3,
   "id": "517a7bc0",
   "metadata": {},
   "outputs": [
    {
     "name": "stdout",
     "output_type": "stream",
     "text": [
      "Conv2d(3, 16, kernel_size=(3, 3), stride=(1, 1))\n"
     ]
    }
   ],
   "source": [
    "conv = nn.Conv2d(3, 16, kernel_size=3) # 3 input channels, 16 output channels, 3x3 kernel\n",
    "print(conv)"
   ]
  },
  {
   "cell_type": "code",
   "execution_count": 4,
   "id": "fb7cfee3",
   "metadata": {},
   "outputs": [
    {
     "name": "stdout",
     "output_type": "stream",
     "text": [
      "torch.Size([16, 3, 3, 3]) torch.Size([16])\n"
     ]
    }
   ],
   "source": [
    "print(conv.weight.shape, conv.bias.shape)\n",
    "# 16 filters, each with input 3x3x3 (channel, kernel width, kernel height)\n",
    "# 1 bias per filter"
   ]
  },
  {
   "cell_type": "code",
   "execution_count": 5,
   "id": "a3c372c8",
   "metadata": {},
   "outputs": [
    {
     "name": "stdout",
     "output_type": "stream",
     "text": [
      "torch.Size([1, 3, 32, 32]) torch.Size([1, 16, 30, 30])\n"
     ]
    },
    {
     "name": "stderr",
     "output_type": "stream",
     "text": [
      "[W NNPACK.cpp:53] Could not initialize NNPACK! Reason: Unsupported hardware.\n"
     ]
    }
   ],
   "source": [
    "img, _ = cifar2[0]\n",
    "output = conv(img.unsqueeze(0)) # need a dimension for batches\n",
    "print(img.unsqueeze(0).shape, output.shape)"
   ]
  },
  {
   "cell_type": "code",
   "execution_count": 6,
   "id": "e1dc0bc8",
   "metadata": {},
   "outputs": [
    {
     "data": {
      "image/png": "[encoded data removed]",
      "text/plain": [
       "<Figure size 640x480 with 1 Axes>"
      ]
     },
     "metadata": {},
     "output_type": "display_data"
    }
   ],
   "source": [
    "plt.imshow(output[0, 0].detach(), cmap=\"gray\")\n",
    "plt.show()"
   ]
  },
  {
   "cell_type": "markdown",
   "id": "3bd427e7",
   "metadata": {
    "deletable": false,
    "editable": false,
    "run_control": {
     "frozen": true
    }
   },
   "source": [
    "### Padding"
   ]
  },
  {
   "cell_type": "code",
   "execution_count": 7,
   "id": "0089b706",
   "metadata": {},
   "outputs": [
    {
     "name": "stdout",
     "output_type": "stream",
     "text": [
      "Conv2d(3, 16, kernel_size=(3, 3), stride=(1, 1), padding=(1, 1))\n",
      "torch.Size([1, 3, 32, 32]) torch.Size([1, 16, 32, 32])\n"
     ]
    }
   ],
   "source": [
    "conv = nn.Conv2d(3, 16, kernel_size=3, padding=1) # 3 input channels, 16 output channels, 3x3 kernel\n",
    "print(conv)\n",
    "\n",
    "img, _ = cifar2[0]\n",
    "output = conv(img.unsqueeze(0)) # need a dimension for batches\n",
    "print(img.unsqueeze(0).shape, output.shape)\n"
   ]
  },
  {
   "cell_type": "markdown",
   "id": "79e8c3e1",
   "metadata": {
    "deletable": false,
    "editable": false,
    "run_control": {
     "frozen": true
    }
   },
   "source": [
    "### Manual filters"
   ]
  },
  {
   "cell_type": "markdown",
   "id": "6a9d6e61",
   "metadata": {
    "deletable": false,
    "editable": false,
    "run_control": {
     "frozen": true
    }
   },
   "source": [
    "#### Blur"
   ]
  },
  {
   "cell_type": "code",
   "execution_count": 8,
   "id": "68765a80",
   "metadata": {},
   "outputs": [
    {
     "data": {
      "image/png": "[encoded data removed]",
      "text/plain": [
       "<Figure size 640x480 with 1 Axes>"
      ]
     },
     "metadata": {},
     "output_type": "display_data"
    }
   ],
   "source": [
    "conv = nn.Conv2d(3, 16, kernel_size=3, padding=1) # 3 input channels, 16 output channels, 3x3 kernel\n",
    "\n",
    "with torch.no_grad():\n",
    "    conv.bias.zero_()\n",
    "    conv.weight.fill_(1.0 / 9.0)\n",
    "\n",
    "img, _ = cifar2[0]\n",
    "output = conv(img.unsqueeze(0))\n",
    "plt.imshow(output[0, 0].detach(), cmap=\"gray\")\n",
    "plt.show()"
   ]
  },
  {
   "cell_type": "markdown",
   "id": "d4ba87b6",
   "metadata": {
    "deletable": false,
    "editable": false,
    "run_control": {
     "frozen": true
    }
   },
   "source": [
    "#### Vertical edge detector"
   ]
  },
  {
   "cell_type": "code",
   "execution_count": 9,
   "id": "68bd961f",
   "metadata": {},
   "outputs": [
    {
     "data": {
      "image/png": "[encoded data removed]",
      "text/plain": [
       "<Figure size 640x480 with 1 Axes>"
      ]
     },
     "metadata": {},
     "output_type": "display_data"
    }
   ],
   "source": [
    "conv = nn.Conv2d(3, 16, kernel_size=3, padding=1) # 3 input channels, 16 output channels, 3x3 kernel\n",
    "\n",
    "with torch.no_grad():\n",
    "    conv.bias.zero_()\n",
    "    conv.weight[:] = torch.tensor([[-1.0, 0, 1.0],\n",
    "                                   [-1.0, 0, 1.0],\n",
    "                                   [-1.0, 0, 1.0]])\n",
    "\n",
    "img, _ = cifar2[0]\n",
    "output = conv(img.unsqueeze(0))\n",
    "plt.imshow(output[0, 0].detach(), cmap=\"gray\")\n",
    "plt.show()"
   ]
  },
  {
   "cell_type": "markdown",
   "id": "37e0f470",
   "metadata": {
    "deletable": false,
    "editable": false,
    "run_control": {
     "frozen": true
    }
   },
   "source": [
    "### `MaxPool` Max pooling"
   ]
  },
  {
   "cell_type": "code",
   "execution_count": 10,
   "id": "76029e53",
   "metadata": {},
   "outputs": [
    {
     "name": "stdout",
     "output_type": "stream",
     "text": [
      "torch.Size([1, 3, 32, 32]) torch.Size([1, 3, 16, 16])\n"
     ]
    },
    {
     "data": {
      "image/png": "[encoded data removed]",
      "text/plain": [
       "<Figure size 640x480 with 1 Axes>"
      ]
     },
     "metadata": {},
     "output_type": "display_data"
    }
   ],
   "source": [
    "pool = nn.MaxPool2d(2)\n",
    "output = pool(img.unsqueeze(0))\n",
    "\n",
    "print(img.unsqueeze(0).shape, output.shape)\n",
    "plt.imshow(output[0, 0].detach(), cmap=\"gray\")\n",
    "plt.show()"
   ]
  },
  {
   "cell_type": "markdown",
   "id": "040d61a5",
   "metadata": {
    "deletable": false,
    "editable": false,
    "run_control": {
     "frozen": true
    }
   },
   "source": [
    "### Combining `Conv2d` and  `MaxPool2d`"
   ]
  },
  {
   "cell_type": "code",
   "execution_count": 11,
   "id": "200f0e98",
   "metadata": {},
   "outputs": [],
   "source": [
    "model = nn.Sequential(\n",
    "    nn.Conv2d(3, 16, kernel_size=3, padding=1), # out (16, 32, 32)\n",
    "    nn.Tanh(),\n",
    "    nn.MaxPool2d(2),                            # out (16, 16, 16)\n",
    "    nn.Conv2d(16, 8, kernel_size=3, padding=1), # out (8, 16, 16)\n",
    "    nn.Tanh(),\n",
    "    nn.MaxPool2d(2),                            # out (8, 8, 8)\n",
    "    # need a flatten operation here\n",
    "    nn.Linear(8 * 8 * 8, 32),\n",
    "    nn.Tanh(),\n",
    "    nn.Linear(32, 2)\n",
    ")"
   ]
  },
  {
   "cell_type": "code",
   "execution_count": 12,
   "id": "4f07f4bc",
   "metadata": {},
   "outputs": [
    {
     "name": "stdout",
     "output_type": "stream",
     "text": [
      "18090 [432, 16, 1152, 8, 16384, 32, 64, 2]\n"
     ]
    }
   ],
   "source": [
    "numel_list = [p.numel() for p in model.parameters()]\n",
    "print(sum(numel_list), numel_list)"
   ]
  },
  {
   "cell_type": "markdown",
   "id": "0de5f058",
   "metadata": {
    "deletable": false,
    "editable": false,
    "run_control": {
     "frozen": true
    }
   },
   "source": [
    "## Subclassing `nn.Module`"
   ]
  },
  {
   "cell_type": "code",
   "execution_count": 13,
   "id": "bda74a7d",
   "metadata": {},
   "outputs": [],
   "source": [
    "class Net(nn.Module):\n",
    "    # all parameters must be defined in __init__\n",
    "    # for PyTorch to track them (when we call Module.parameters())\n",
    "    def __init__(self):\n",
    "        super().__init__()\n",
    "        \n",
    "        self.conv1 = nn.Conv2d(3, 16, kernel_size=3, padding=1) # out (16, 32, 32)\n",
    "        self.act1 = nn.Tanh()\n",
    "        self.pool1 = nn.MaxPool2d(2)                            # out (16, 16, 16)\n",
    "        self.conv2 = nn.Conv2d(16, 8, kernel_size=3, padding=1) # out (8, 16, 16)\n",
    "        self.act2 = nn.Tanh()\n",
    "        self.pool2 = nn.MaxPool2d(2)                            # out (8, 8, 8)\n",
    "        \n",
    "        self.fc1 = nn.Linear(8 * 8 * 8, 32)\n",
    "        self.act3 = nn.Tanh()\n",
    "        self.fc2 = nn.Linear(32, 2)\n",
    "    \n",
    "    def forward(self, x):\n",
    "        out = self.pool1(self.act1(self.conv1(x)))\n",
    "        out = self.pool2(self.act2(self.conv2(out)))\n",
    "        out = out.view(-1, 8 * 8 * 8) # reshape\n",
    "        out = self.act3(self.fc1(out))\n",
    "        out = self.fc2(out)\n",
    "        return out"
   ]
  },
  {
   "cell_type": "code",
   "execution_count": 14,
   "id": "b7097bfd",
   "metadata": {},
   "outputs": [
    {
     "name": "stdout",
     "output_type": "stream",
     "text": [
      "18090 [432, 16, 1152, 8, 16384, 32, 64, 2]\n"
     ]
    }
   ],
   "source": [
    "model = Net()\n",
    "\n",
    "numel_list = [p.numel() for p in model.parameters()]\n",
    "print(sum(numel_list), numel_list)"
   ]
  },
  {
   "cell_type": "markdown",
   "id": "8a04a3d9",
   "metadata": {
    "deletable": false,
    "editable": false,
    "run_control": {
     "frozen": true
    }
   },
   "source": [
    "## Functional API"
   ]
  },
  {
   "cell_type": "code",
   "execution_count": 15,
   "id": "57ee60fe",
   "metadata": {},
   "outputs": [],
   "source": [
    "class Net(nn.Module):\n",
    "    def __init__(self):\n",
    "        super().__init__()\n",
    "        self.conv1 = nn.Conv2d(3, 16, kernel_size=3, padding=1)\n",
    "        self.conv2 = nn.Conv2d(16, 8, kernel_size=3, padding=1)\n",
    "        self.fc1 = nn.Linear(8 * 8 * 8, 32)\n",
    "        self.fc2 = nn.Linear(32, 2)\n",
    "        \n",
    "    def forward(self, x):\n",
    "        out = F.max_pool2d(torch.tanh(self.conv1(x)), 2)\n",
    "        out = F.max_pool2d(torch.tanh(self.conv2(out)), 2)\n",
    "        out = out.view(-1, 8 * 8 * 8)\n",
    "        out = torch.tanh(self.fc1(out))\n",
    "        out = self.fc2(out)\n",
    "        return out"
   ]
  },
  {
   "cell_type": "code",
   "execution_count": 16,
   "id": "33b2c401",
   "metadata": {},
   "outputs": [
    {
     "data": {
      "text/plain": [
       "tensor([[0.1083, 0.1597]], grad_fn=<AddmmBackward0>)"
      ]
     },
     "execution_count": 16,
     "metadata": {},
     "output_type": "execute_result"
    }
   ],
   "source": [
    "model = Net()\n",
    "\n",
    "img, _ = cifar2[0]\n",
    "model(img.unsqueeze(0))"
   ]
  },
  {
   "cell_type": "code",
   "execution_count": 17,
   "id": "000a375d",
   "metadata": {},
   "outputs": [],
   "source": [
    "def training_loop(n_epochs, optimizer, model, loss_fn, train_loader, device=\"cpu\"):\n",
    "    prev_devices = [d.device for d in model.parameters()]\n",
    "    \n",
    "    model.to(device=device)\n",
    "    \n",
    "    for epoch in range(1, n_epochs + 1):\n",
    "        loss_train = 0.0\n",
    "        for imgs, labels in train_loader:\n",
    "            imgs = imgs.to(device=device)\n",
    "            labels = labels.to(device=device)\n",
    "            \n",
    "            outputs = model(imgs)\n",
    "            \n",
    "            loss = loss_fn(outputs, labels)\n",
    "            \n",
    "            optimizer.zero_grad()\n",
    "            loss.backward()\n",
    "            optimizer.step()\n",
    "            \n",
    "            loss_train += loss.item()\n",
    "            \n",
    "        if epoch == 1 or epoch % 10 == 0:\n",
    "            print(\"{} Epoch {}, Training loss {}\".format(\n",
    "                datetime.datetime.now(), epoch,\n",
    "                loss_train / len(train_loader) # average loss per batch\n",
    "                ))\n",
    "        \n",
    "    for param, dev in zip(model.parameters(), prev_devices):\n",
    "        param.to(device=dev)"
   ]
  },
  {
   "cell_type": "code",
   "execution_count": 18,
   "id": "55cd4b99",
   "metadata": {},
   "outputs": [],
   "source": [
    "train_loader = torch.utils.data.DataLoader(cifar2, batch_size=64, shuffle=True)"
   ]
  },
  {
   "cell_type": "code",
   "execution_count": 19,
   "id": "9690683c",
   "metadata": {},
   "outputs": [
    {
     "name": "stdout",
     "output_type": "stream",
     "text": [
      "2023-01-16 01:12:32.821070 Epoch 1, Training loss 0.6040439936006146\n",
      "2023-01-16 01:12:44.022205 Epoch 10, Training loss 0.34178083926249464\n",
      "2023-01-16 01:12:56.428469 Epoch 20, Training loss 0.3045279536467449\n",
      "2023-01-16 01:13:08.701769 Epoch 30, Training loss 0.2803690834030224\n",
      "2023-01-16 01:13:21.079340 Epoch 40, Training loss 0.25604358941886074\n",
      "2023-01-16 01:13:33.660150 Epoch 50, Training loss 0.23974208552746257\n",
      "2023-01-16 01:13:47.253920 Epoch 60, Training loss 0.2211893314293995\n",
      "2023-01-16 01:14:00.512844 Epoch 70, Training loss 0.20401476100561725\n",
      "2023-01-16 01:14:13.764871 Epoch 80, Training loss 0.18988330799872707\n",
      "2023-01-16 01:14:26.342596 Epoch 90, Training loss 0.1751278194414962\n",
      "2023-01-16 01:14:39.081647 Epoch 100, Training loss 0.16077537818034743\n",
      "training took 130.3088 seconds\n"
     ]
    }
   ],
   "source": [
    "model = Net()\n",
    "optimizer = optim.SGD(model.parameters(), lr=1e-2)\n",
    "loss_fn = nn.CrossEntropyLoss()\n",
    "\n",
    "start = time.time()\n",
    "training_loop(\n",
    "    n_epochs=100,\n",
    "    optimizer=optimizer,\n",
    "    model=model,\n",
    "    loss_fn=loss_fn,\n",
    "    train_loader=train_loader,\n",
    "    device=\"mps\"\n",
    ")\n",
    "end = time.time()\n",
    "\n",
    "print(\"training took {:.4f} seconds\".format(end - start))"
   ]
  },
  {
   "cell_type": "markdown",
   "id": "06bc56e4",
   "metadata": {
    "deletable": false,
    "editable": false,
    "run_control": {
     "frozen": true
    }
   },
   "source": [
    "### Measuring accuracy"
   ]
  },
  {
   "cell_type": "code",
   "execution_count": 20,
   "id": "962a3876",
   "metadata": {},
   "outputs": [
    {
     "name": "stdout",
     "output_type": "stream",
     "text": [
      "Accuracy train: 0.92\n",
      "Accuracy val: 0.88\n"
     ]
    }
   ],
   "source": [
    "train_loader = torch.utils.data.DataLoader(cifar2, batch_size=64, shuffle=False)\n",
    "val_loader = torch.utils.data.DataLoader(cifar2_val, batch_size=64, shuffle=False)\n",
    "\n",
    "def validate(model, train_loader, val_loader, device=\"cpu\"):\n",
    "    prev_devices = [d.device for d in model.parameters()]\n",
    "    \n",
    "    model.to(device=device)\n",
    "    \n",
    "    for name, loader in [(\"train\", train_loader), (\"val\", val_loader)]:\n",
    "        correct = 0\n",
    "        total = 0\n",
    "        \n",
    "        with torch.no_grad():\n",
    "            for imgs, labels in loader:\n",
    "                imgs = imgs.to(device=device)\n",
    "                labels = labels.to(device=device)\n",
    "                \n",
    "                outputs = model(imgs)\n",
    "                _, predicted = torch.max(outputs, dim=1) # get index of highest prediction\n",
    "                total += labels.shape[0] # batch is zeroth dimension\n",
    "                correct += int((predicted == labels).sum())\n",
    "                \n",
    "        print(\"Accuracy {}: {:.2f}\".format(name, correct / total))\n",
    "    \n",
    "    for param, dev in zip(model.parameters(), prev_devices):\n",
    "        param.to(device=dev)\n",
    "\n",
    "validate(model, train_loader, val_loader, \"mps\")"
   ]
  },
  {
   "cell_type": "markdown",
   "id": "cfb4291d",
   "metadata": {
    "deletable": false,
    "editable": false,
    "run_control": {
     "frozen": true
    }
   },
   "source": [
    "### Saving and loading models"
   ]
  },
  {
   "cell_type": "code",
   "execution_count": 21,
   "id": "36fd1fcc",
   "metadata": {},
   "outputs": [],
   "source": [
    "torch.save(model.state_dict(), f\"{model_path}/birds_vs_airplanes.pt\")"
   ]
  },
  {
   "cell_type": "code",
   "execution_count": 22,
   "id": "c6324bea",
   "metadata": {},
   "outputs": [
    {
     "data": {
      "text/plain": [
       "<All keys matched successfully>"
      ]
     },
     "execution_count": 22,
     "metadata": {},
     "output_type": "execute_result"
    }
   ],
   "source": [
    "device = torch.device(\"cuda\") if torch.cuda.is_available() else torch.device(\"cpu\")\n",
    "loaded_model = Net().to(device=device)\n",
    "loaded_model.load_state_dict(torch.load(f\"{model_path}/birds_vs_airplanes.pt\", map_location=device))"
   ]
  },
  {
   "cell_type": "code",
   "execution_count": 23,
   "id": "b6131939",
   "metadata": {},
   "outputs": [
    {
     "data": {
      "text/plain": [
       "False"
      ]
     },
     "execution_count": 23,
     "metadata": {},
     "output_type": "execute_result"
    }
   ],
   "source": [
    "torch.cuda.is_available()"
   ]
  },
  {
   "cell_type": "code",
   "execution_count": 24,
   "id": "30c80d3c",
   "metadata": {},
   "outputs": [
    {
     "data": {
      "text/plain": [
       "True"
      ]
     },
     "execution_count": 24,
     "metadata": {},
     "output_type": "execute_result"
    }
   ],
   "source": [
    "torch.backends.mps.is_available()"
   ]
  },
  {
   "cell_type": "markdown",
   "id": "012cc5f6",
   "metadata": {},
   "source": [
    "### Training on other backends"
   ]
  },
  {
   "cell_type": "code",
   "execution_count": 25,
   "id": "3c6315cd",
   "metadata": {},
   "outputs": [
    {
     "name": "stdout",
     "output_type": "stream",
     "text": [
      "2023-01-16 01:14:44.019763 Epoch 1, Training loss 0.5779705497489613\n",
      "2023-01-16 01:15:16.335573 Epoch 10, Training loss 0.33777073614156927\n",
      "2023-01-16 01:15:51.902763 Epoch 20, Training loss 0.3048663138394143\n",
      "2023-01-16 01:16:27.827766 Epoch 30, Training loss 0.27747549239996894\n",
      "2023-01-16 01:17:04.705622 Epoch 40, Training loss 0.2545934834867526\n",
      "2023-01-16 01:17:44.210416 Epoch 50, Training loss 0.23486944411400776\n",
      "2023-01-16 01:18:26.167187 Epoch 60, Training loss 0.21788703280079896\n",
      "2023-01-16 01:19:02.556921 Epoch 70, Training loss 0.20266271861875132\n",
      "2023-01-16 01:19:38.321343 Epoch 80, Training loss 0.1885809520627283\n",
      "2023-01-16 01:20:13.141071 Epoch 90, Training loss 0.1751902179353556\n",
      "2023-01-16 01:20:48.274254 Epoch 100, Training loss 0.16204459580836023\n",
      "training on cpu took 368.0538 seconds\n",
      "2023-01-16 01:20:49.568465 Epoch 1, Training loss 0.5998649790788152\n",
      "2023-01-16 01:21:00.495547 Epoch 10, Training loss 0.33681364006297604\n",
      "2023-01-16 01:21:12.925127 Epoch 20, Training loss 0.2994097634485573\n",
      "2023-01-16 01:21:25.605413 Epoch 30, Training loss 0.2740658026686899\n",
      "2023-01-16 01:21:38.356114 Epoch 40, Training loss 0.25218425534523214\n",
      "2023-01-16 01:21:50.726900 Epoch 50, Training loss 0.23319067136876903\n",
      "2023-01-16 01:22:03.116048 Epoch 60, Training loss 0.2160658345670457\n",
      "2023-01-16 01:22:15.806310 Epoch 70, Training loss 0.2004921486138538\n",
      "2023-01-16 01:22:28.203010 Epoch 80, Training loss 0.18591149692322798\n",
      "2023-01-16 01:22:40.941441 Epoch 90, Training loss 0.17169393418700832\n",
      "2023-01-16 01:22:54.326464 Epoch 100, Training loss 0.15765005796198633\n",
      "training on mps took 126.0531 seconds\n"
     ]
    }
   ],
   "source": [
    "for device in [\"cpu\", \"mps\"]:\n",
    "    model = Net()\n",
    "    optimizer = optim.SGD(model.parameters(), lr=1e-2)\n",
    "    loss_fn = nn.CrossEntropyLoss()\n",
    "    \n",
    "    start = time.time()\n",
    "    training_loop(\n",
    "        n_epochs=100,\n",
    "        optimizer=optimizer,\n",
    "        model=model,\n",
    "        loss_fn=loss_fn,\n",
    "        train_loader=train_loader,\n",
    "        device=device\n",
    "    )\n",
    "    end = time.time()\n",
    "    print(\"training on {} took {:.4f} seconds\".format(device, end - start))"
   ]
  },
  {
   "cell_type": "markdown",
   "id": "5faf24a0",
   "metadata": {
    "deletable": false,
    "editable": false,
    "run_control": {
     "frozen": true
    }
   },
   "source": [
    "## Model design"
   ]
  },
  {
   "cell_type": "markdown",
   "id": "2e0e1a65",
   "metadata": {
    "deletable": false,
    "editable": false,
    "run_control": {
     "frozen": true
    }
   },
   "source": [
    "### Regularization"
   ]
  },
  {
   "cell_type": "code",
   "execution_count": 26,
   "id": "15fe2a01",
   "metadata": {},
   "outputs": [],
   "source": [
    "class NetDropout(nn.Module):\n",
    "    def __init__(self, n_chans1=32):\n",
    "        super().__init__()\n",
    "        self.n_chans1 = n_chans1\n",
    "        \n",
    "        self.conv1 = nn.Conv2d(3, n_chans1, kernel_size=3, padding=1)\n",
    "        self.conv1_dropout = nn.Dropout2d(p=0.4)\n",
    "        self.conv2 = nn.Conv2d(n_chans1, n_chans1 // 2, kernel_size=3, padding=1)\n",
    "        self.conv2_dropout = nn.Dropout2d(p=0.4)\n",
    "        \n",
    "        self.fc1 = nn.Linear(8 * 8 * n_chans1 // 2, 32)\n",
    "        self.fc2 = nn.Linear(32, 2)\n",
    "        \n",
    "    def forward(self, x):\n",
    "        out = F.max_pool2d(torch.tanh(self.conv1(x)), 2)\n",
    "        out = self.conv1_dropout(out)\n",
    "        out = F.max_pool2d(torch.tanh(self.conv2(out)), 2)\n",
    "        out = self.conv2_dropout(out)\n",
    "        out = out.view(-1, 8 * 8 * self.nchans1 // 2)\n",
    "        out = torch.tanh(self.fc1(out))\n",
    "        out = self.fc2(out)\n",
    "        return out"
   ]
  },
  {
   "cell_type": "markdown",
   "id": "bf9b6b7d",
   "metadata": {
    "deletable": false,
    "editable": false,
    "run_control": {
     "frozen": true
    }
   },
   "source": [
    "### Batch normalization"
   ]
  },
  {
   "cell_type": "code",
   "execution_count": 27,
   "id": "2c961eb5",
   "metadata": {},
   "outputs": [],
   "source": [
    "class NetBatchNorm(nn.Module):\n",
    "    def __init__(self, n_chans1=32):\n",
    "        super().__init__()\n",
    "        self.n_chans1 = n_chans1\n",
    "        self.n_chans2 = n_chans2 = n_chans1 // 2\n",
    "        \n",
    "        self.conv = nn.Conv2d(3, n_chans1, kernel_size=3, padding=1)\n",
    "        self.conv1_batchnorm = nn.BatchNorm2d(num_features=n_chans1)\n",
    "        \n",
    "        \n",
    "        self.conv2 = nn.Conv2d(n_chans1, n_chans2, kernel_size=3, padding=1)\n",
    "        self.conv2_batchnorm = nn.BatchNorm2d(num_features=n_chans2)\n",
    "        \n",
    "        self.fc1 = nn.Linear(8 * 8 * n_chans2)\n",
    "        self.fc2 = nn.Linear(32, 2)\n",
    "    \n",
    "    def forward(self, x):\n",
    "        out = self.conv1_batchnorm(self.conv1(x))\n",
    "        out = F.max_pool2d(torch.tanh(out), 2)\n",
    "        out = self.conv2_batchnorm(self.conv2(out))\n",
    "        out = F.max_pool2d(torch.tanh(out), 2)\n",
    "        out = out.view(-1, 8 * 8 * self.n_chans2)\n",
    "        out = torch.tanh(self.fc1(out))\n",
    "        out = self.fc2(out)\n",
    "        return out"
   ]
  },
  {
   "cell_type": "markdown",
   "id": "16f63dd6",
   "metadata": {
    "deletable": false,
    "editable": false,
    "run_control": {
     "frozen": true
    }
   },
   "source": [
    "### Residual networks"
   ]
  },
  {
   "cell_type": "code",
   "execution_count": 28,
   "id": "bf89aaac",
   "metadata": {},
   "outputs": [],
   "source": [
    "class NetDepth(nn.Module):\n",
    "    def __init__(self, n_chans1=32):\n",
    "        super().__init__()\n",
    "        \n",
    "        self.n_chans1 = n_chans1\n",
    "        self.conv1 = nn.Conv2d(3, n_chans1, kernel_size=3, padding=1)\n",
    "        self.conv2 = nn.Conv2d(n_chans1, n_chans1 // 2, kernel_size=3, padding=1)\n",
    "        self.conv3 = nn.Conv2d(n_chans1 // 2, n_chans1 // 2, kernel_size=3, padding=1)\n",
    "        self.fc1 = nn.Linear(4 * 4 * n_chans1 // 2, 32)\n",
    "        self.fc2 = nn.Linear(32, 2)\n",
    "        \n",
    "    def forward(self, x):\n",
    "        out = F.max_pool2d(torch.relu(self.conv1(x)), 2)\n",
    "        out = F.max_pool2d(torch.relu(self.conv2(out)), 2)\n",
    "        out = F.max_pool2d(torch.relu(self.conv3(out)), 2)\n",
    "        out = out.view(-1, 4 * 4 * self.n_chans1 // 2)\n",
    "        out = torch.relu(self.fc1(out))\n",
    "        out = self.fc2(out)\n",
    "        return out"
   ]
  },
  {
   "cell_type": "code",
   "execution_count": null,
   "id": "e84226a8",
   "metadata": {},
   "outputs": [],
   "source": [
    "class NetRes(nn.Module):\n",
    "    def __init__(self, n_chans1=32):\n",
    "        super().__init__()\n",
    "        \n",
    "        self.n_chans1 = n_chans1\n",
    "        self.conv1 = nn.Conv2d(3, n_chans1, kernel_size=3, padding=1)\n",
    "        self.conv2 = nn.Conv2d(n_chans1, n_chans1 // 2, kernel_size=3, padding=1)\n",
    "        self.conv3 = nn.Conv2d(n_chans1 // 2, n_chans1 // 2, kernel_size=3, padding=1)\n",
    "        self.fc1 = nn.Linear(4 * 4 * n_chans1 // 2, 32)\n",
    "        self.fc2 = nn.Linear(32, 2)\n",
    "        \n",
    "    def forward(self, x):\n",
    "        out = F.max_pool2d(torch.relu(self.conv1(x)), 2)\n",
    "        out = F.max_pool2d(torch.relu(self.conv2(out)), 2)\n",
    "        out1 = out\n",
    "        out = F.max_pool2d(torch.relu(self.conv3(out)) + out1, 2) # convolution now learns residual\n",
    "        out = out.view(-1, 4 * 4 * self.n_chans1 // 2)\n",
    "        out = torch.relu(self.fc1(out))\n",
    "        out = self.fc2(out)\n",
    "        return out"
   ]
  },
  {
   "cell_type": "code",
   "execution_count": 29,
   "id": "0d6fdf5f",
   "metadata": {},
   "outputs": [],
   "source": [
    "class ResBlock(nn.Module):\n",
    "    def __init__(self, n_chans):\n",
    "        super(ResBlock, self).__init__()\n",
    "        self.conv = nn.Conv2d(n_chans, n_chans, kernel_size=3, padding=1, bias=False)\n",
    "        self.batch_norm = nn.BatchNorm2d(num_features=n_chans)\n",
    "        torch.nn.init.kaiming_normal_(self.conv.weight, nonlinearity=\"relu\")\n",
    "        torch.nn.init.constant_(self.batch_norm.weight, 0.5)\n",
    "        torch.nn.init.zeros_(self.batch_norm.bias)\n",
    "    \n",
    "    def forward(self, x):\n",
    "        out = self.conv(x)\n",
    "        out = self.batch_norm(out)\n",
    "        out = torch.relu(out)\n",
    "        return out + x"
   ]
  },
  {
   "cell_type": "code",
   "execution_count": 30,
   "id": "bd9ab0bb",
   "metadata": {},
   "outputs": [],
   "source": [
    "class NetResDeep(nn.Module):\n",
    "    def __init__(self, n_chans1=32, n_blocks=10):\n",
    "        super().__init__()\n",
    "        self.n_chans1 = n_chans1\n",
    "        self.conv1 = nn.Conv2d(3, n_chans1, kernel_size=3, padding=1)\n",
    "        self.resblocks = nn.Sequential(\n",
    "            *(ResBlock(n_chans=n_chans1) for _ in range(n_blocks))\n",
    "        )\n",
    "        self.fc1 = nn.Linear(8 * 8 * n_chans1, 32)\n",
    "        self.fc2 = nn.Linear(32, 2)\n",
    "    \n",
    "    def forward(self, x):\n",
    "        out = F.max_pool2d(torch.relu(self.conv1(x)), 2)\n",
    "        out = self.resblocks(out)\n",
    "        out = F.max_pool2d(out, 2)\n",
    "        out = out.view(-1, 8 * 8 * self.n_chans1)\n",
    "        out = torch.relu(self.fc1(out))\n",
    "        out = self.fc2(out)\n",
    "        return out\n",
    "    "
   ]
  },
  {
   "cell_type": "code",
   "execution_count": null,
   "id": "e194cc82",
   "metadata": {},
   "outputs": [],
   "source": []
  }
 ],
 "metadata": {
  "kernelspec": {
   "display_name": "Python 3 (ipykernel)",
   "language": "python",
   "name": "python3"
  },
  "language_info": {
   "codemirror_mode": {
    "name": "ipython",
    "version": 3
   },
   "file_extension": ".py",
   "mimetype": "text/x-python",
   "name": "python",
   "nbconvert_exporter": "python",
   "pygments_lexer": "ipython3",
   "version": "3.9.15"
  }
 },
 "nbformat": 4,
 "nbformat_minor": 5
}
